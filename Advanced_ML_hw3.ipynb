{
 "cells": [
  {
   "cell_type": "markdown",
   "metadata": {},
   "source": [
    "## Елизаров Константин, MADE-DS-21"
   ]
  },
  {
   "cell_type": "code",
   "execution_count": 1,
   "metadata": {},
   "outputs": [],
   "source": [
    "import re\n",
    "import numpy as np\n",
    "from collections import Counter"
   ]
  },
  {
   "cell_type": "code",
   "execution_count": 2,
   "metadata": {},
   "outputs": [],
   "source": [
    "np.random.seed(13)"
   ]
  },
  {
   "cell_type": "code",
   "execution_count": 3,
   "metadata": {},
   "outputs": [],
   "source": [
    "RUS_WAP_PATH = './corpora/WarAndPeace.txt'\n",
    "RUS_AK_PATH = './corpora/AnnaKarenina.txt'"
   ]
  },
  {
   "cell_type": "code",
   "execution_count": 4,
   "metadata": {},
   "outputs": [],
   "source": [
    "with open(RUS_WAP_PATH, encoding='utf-8') as f:\n",
    "    rus_wap = f.read()\n",
    "    \n",
    "with open(RUS_AK_PATH, encoding='utf-8') as f:\n",
    "    rus_ak = f.read()\n",
    "    \n",
    "rus_corpora = rus_wap + rus_ak"
   ]
  },
  {
   "cell_type": "markdown",
   "metadata": {},
   "source": [
    "В качестве тренировочного корпуса используется сконкатенированный текст отрывков из Войны и Мира и Анны Карениной на русском языке."
   ]
  },
  {
   "cell_type": "markdown",
   "metadata": {},
   "source": [
    "## 1. Базовый частотный метод по Шерлоку Холмсу"
   ]
  },
  {
   "cell_type": "code",
   "execution_count": 5,
   "metadata": {},
   "outputs": [],
   "source": [
    "# Предобработка текста (приведение к нижнему регистру, удаление пунктуации и символов-разделителей)\n",
    "def preprocess_text(text: str) -> str:\n",
    "    text = text.lower()\n",
    "    text = re.sub(r'[ \\n\\t\\\\n]+', ' ', text)\n",
    "    text = ' '.join(re.findall(r'[а-я ]+', text))\n",
    "    text = re.sub(r'[ ]+', ' ', text)\n",
    "    \n",
    "    return text\n",
    "\n",
    "\n",
    "# Вычисление частот символов в тексте\n",
    "def compute_freqs(text: str) -> dict:\n",
    "    size = len(text)\n",
    "    freqs_dict = {}\n",
    "    \n",
    "    for key, val in Counter(text).items():\n",
    "        freqs_dict[key] = val / size\n",
    "        \n",
    "    return freqs_dict\n",
    "\n",
    "\n",
    "# Создание словаря для кодирования текста (последовательности символов алфавита ставится\n",
    "# в соответствие перемешенная случайным образом последовательность символов этого же алфавита)\n",
    "def get_encode_dict(freqs_dict: dict) -> dict:\n",
    "    vocabulary = list(freqs_dict.keys())\n",
    "    shuffled_vocabulary = vocabulary.copy()\n",
    "    np.random.shuffle(shuffled_vocabulary)\n",
    "    encode_dict = {}\n",
    "    \n",
    "    for true_char, fake_char in zip(vocabulary, shuffled_vocabulary):\n",
    "        encode_dict[true_char] = fake_char\n",
    "        \n",
    "    return encode_dict\n",
    "\n",
    "\n",
    "# Применение отображения к символам текста\n",
    "def apply_map_dict(text, map_dict):\n",
    "    mapped_text = [map_dict.get(c, ' ') for c in text]\n",
    "    return ''.join(mapped_text)\n",
    "\n",
    "\n",
    "# Создание словаря для расшифровки текста на основе частотного метода\n",
    "def get_decode_dict(encoded_freqs_dict: dict, exact_freqs_dict: dict) -> dict:\n",
    "    sorted_encoded_freqs = dict(sorted(encoded_freqs_dict.items(), key=lambda x: x[1], reverse=True))\n",
    "    sorted_exact_freqs = dict(sorted(exact_freqs_dict.items(), key=lambda x: x[1], reverse=True))\n",
    "        \n",
    "    return dict(list(zip(sorted_encoded_freqs.keys(), sorted_exact_freqs.keys())))\n",
    "\n",
    "\n",
    "# Подсчет доли верно декодированных символов (посимвольная точность)\n",
    "def char_accuracy(first_text: str, second_text: str) -> float:\n",
    "    assert len(first_text) == len(second_text), (\n",
    "        'Sizes of texts are different.'\n",
    "    )\n",
    "    \n",
    "    accuracy_score = 0\n",
    "    for chr_1, chr_2 in zip(first_text, second_text):\n",
    "        if chr_1 == chr_2:\n",
    "            accuracy_score += 1\n",
    "            \n",
    "    return accuracy_score / len(first_text)"
   ]
  },
  {
   "cell_type": "code",
   "execution_count": 6,
   "metadata": {},
   "outputs": [],
   "source": [
    "preprocessed_rus_corpora = preprocess_text(rus_corpora)\n",
    "rus_corpora_freqs = compute_freqs(preprocessed_rus_corpora)\n",
    "encode_dict = get_encode_dict(rus_corpora_freqs)"
   ]
  },
  {
   "cell_type": "code",
   "execution_count": 33,
   "metadata": {},
   "outputs": [
    {
     "data": {
      "text/plain": [
       "'Все счастливые семьи похожи друг на друга, каждая несчастливая семья несчастлива по-своему.\\\\n\\\\nВсе смешалось в доме Облонских. Жена узнала, что муж был в связи с бывшею в их доме француженкою-гувернанткой, и объявила мужу, что не может жить с ним в одном доме. Положение это продолжалось уже третий день и мучительно чувствовалось и самими супругами, и всеми членами семьи, и домочадцами. Все члены семьи и домочадцы чувствовали, что нет смысла в их сожительстве и что на каждом постоялом дворе случайно сошедшиеся люди более связаны между собой, чем они, члены семьи и домочадцы Облонских. Жена не выходила из своих комнат, мужа третий день не было дома. Дети бегали по всему дому, как потерянные; англичанка поссорилась с экономкой и написала записку приятельнице, прося приискать ей новое место; повар ушел еще вчера со двора, во время самого обеда; черная кухарка и кучер просили расчета.'"
      ]
     },
     "execution_count": 33,
     "metadata": {},
     "output_type": "execute_result"
    }
   ],
   "source": [
    "# Тестовый отрывок\n",
    "# test_text = r\"\"\"Все счастливые семьи похожи друг на друга, каждая несчастливая семья несчастлива по-своему.\\n\\nВсе смешалось в доме Облонских. Жена узнала, что муж был в связи с бывшею в их доме француженкою-гувернанткой, и объявила мужу, что не может жить с ним в одном доме. Положение это продолжалось уже третий день и мучительно чувствовалось и самими супругами, и всеми членами семьи, и домочадцами. Все члены семьи и домочадцы чувствовали, что нет смысла в их сожительстве и что на каждом постоялом дворе случайно сошедшиеся люди более связаны между собой, чем они, члены семьи и домочадцы Облонских. Жена не выходила из своих комнат, мужа третий день не было дома. Дети бегали по всему дому, как потерянные; англичанка поссорилась с экономкой и написала записку приятельнице, прося приискать ей новое место; повар ушел еще вчера со двора, во время самого обеда; черная кухарка и кучер просили расчета.\\n\\nНа третий день после ссоры князь Степан Аркадьич Облонский – Стива, как его звали в свете, – в обычный час, то есть в восемь часов утра, проснулся не в спальне жены, а в своем кабинете, на сафьянном диване. Он повернул свое полное, выхоленное тело на пружинах дивана, как бы желая опять заснуть надолго, с другой стороны крепко обнял подушку и прижался к ней щекой; но вдруг вскочил, сел на диван и открыл глаза.\\n\\n«Да, да, как это было? – думал он, вспоминая сон. – Да, как это было? Да! Алабин давал обед в Дармштадте; нет, не в Дармштадте, а что-то американское. Да, но там Дармштадт был в Америке. Да, Алабин давал обед на стеклянных столах, да, – и столы пели: Il mio tesoro и не Il mio tesoro,[32] а что-то лучше, и какие-то маленькие графинчики, и они же женщины», – вспоминал он.\\n\\nГлаза Степана Аркадьича весело заблестели, и он задумался, улыбаясь. «Да, хорошо было, очень хорошо. Много еще что-то там было отличного, да не скажешь словами и мыслями даже наяву не выразишь». И, заметив полосу света, пробившуюся сбоку одной из суконных стор, он весело скинул ноги с дивана, отыскал ими шитые женой (подарок ко дню рождения в прошлом году), обделанные в золотистый сафьян туфли и по старой, девятилетней привычке, не вставая, потянулся рукой к тому месту, где в спальне у него висел халат. И тут он вспомнил вдруг, как и почему он спит не в спальне жены, а в кабинете; улыбка исчезла с его лица, он сморщил лоб.\\n\\n«Ах, ах, ах! Ааа!..» – замычал он, вспоминая все, что было. И его воображению представились опять все подробности ссоры с женою, вся безвыходность его положения и мучительнее всего собственная вина его.\\n\\n«Да! она не простит и не может простить. И всего ужаснее то, что виной всему я, виной я, а не виноват. В этом-то вся драма, – думал он. – Ах, ах, ах!» – приговаривал он с отчаянием, вспоминая самые тяжелые для себя впечатления из этой ссоры.\\n\\nНеприятнее всего была та первая минута, когда он, вернувшись из театра, веселым и довольным, с огромною грушей для жены в руке, не нашел жены в гостиной; к удивлению, не нашел ее и в кабинете и, наконец, увидал ее в спальне с несчастною, открывшею все, запиской в руке.\"\"\"\n",
    "# test_text\n",
    "\n",
    "# Тестовый отрывок\n",
    "test_text = r\"\"\"Все счастливые семьи похожи друг на друга, каждая несчастливая семья несчастлива по-своему.\\n\\nВсе смешалось в доме Облонских. Жена узнала, что муж был в связи с бывшею в их доме француженкою-гувернанткой, и объявила мужу, что не может жить с ним в одном доме. Положение это продолжалось уже третий день и мучительно чувствовалось и самими супругами, и всеми членами семьи, и домочадцами. Все члены семьи и домочадцы чувствовали, что нет смысла в их сожительстве и что на каждом постоялом дворе случайно сошедшиеся люди более связаны между собой, чем они, члены семьи и домочадцы Облонских. Жена не выходила из своих комнат, мужа третий день не было дома. Дети бегали по всему дому, как потерянные; англичанка поссорилась с экономкой и написала записку приятельнице, прося приискать ей новое место; повар ушел еще вчера со двора, во время самого обеда; черная кухарка и кучер просили расчета.\"\"\"\n",
    "test_text"
   ]
  },
  {
   "cell_type": "code",
   "execution_count": 34,
   "metadata": {},
   "outputs": [],
   "source": [
    "preprocessed_test_text = preprocess_text(test_text)\n",
    "# Шифровка текста\n",
    "encoded_test_text = apply_map_dict(preprocessed_test_text, encode_dict)\n",
    "test_freqs = compute_freqs(encoded_test_text)\n",
    "decode_dict = get_decode_dict(test_freqs, rus_corpora_freqs)\n",
    "# Расшифровка текста\n",
    "decoded_test_text = apply_map_dict(encoded_test_text, decode_dict)"
   ]
  },
  {
   "cell_type": "code",
   "execution_count": 35,
   "metadata": {},
   "outputs": [
    {
     "data": {
      "text/plain": [
       "'все счастливые семьи похожи друг на друга каждая несчастливая семья несчастлива по своему все смешалось в доме облонских жена узнала что муж был в связи с бывшею в их доме француженкою гувернанткой и объявила мужу что не может жить с ним в одном доме положение это продолжалось уже третий день и мучительно чувствовалось и самими супругами и всеми членами семьи и домочадцами все члены семьи и домочадцы чувствовали что нет смысла в их сожительстве и что на каждом постоялом дворе случайно сошедшиеся люди более связаны между собой чем они члены семьи и домочадцы облонских жена не выходила из своих комнат мужа третий день не было дома дети бегали по всему дому как потерянные англичанка поссорилась с экономкой и написала записку приятельнице прося приискать ей новое место повар ушел еще вчера со двора во время самого обеда черная кухарка и кучер просили расчета'"
      ]
     },
     "execution_count": 35,
     "metadata": {},
     "output_type": "execute_result"
    }
   ],
   "source": [
    "# Предобработанный тестовый текст\n",
    "preprocessed_test_text"
   ]
  },
  {
   "cell_type": "code",
   "execution_count": 36,
   "metadata": {},
   "outputs": [
    {
     "data": {
      "text/plain": [
       "'мь яьшвьпнюмд яь чзюяэрирйюяахлтяъвяахлтвясвйавфяъ ьшвьпнюмвфяь чзфяъ ьшвьпнюмвяэряьмр члямь яьч ывнрьзямяарч яренръьсюияй ъвялжъвнвяшпрячлйяеднямяьмфжюяьяедмы цямяюияарч яухвъклй ъсрцятлм хъвъпсрбяюярегфмюнвячлйляшпряъ ячрй пяйюпзяьяъючямяраърчяарч яэрнрй ъю яопряэхрарнйвнрьзялй япх пюбяа ъзяюячлшюп нзъряшлмьпмрмвнрьзяюяьвчючюяьлэхлтвчюяюямь чюяшн ъвчюяь чзюяюяарчршваквчюямь яшн ъдяь чзюяюяарчршвакдяшлмьпмрмвнюяшпряъ пяьчдьнвямяюияьрйюп нзьпм яюяшпряъвясвйарчяэрьпрфнрчяамрх яьнлшвбъряьры аыю ьфянцаюяерн  яьмфжвъдяч йаляьрербяш чяръюяшн ъдяь чзюяюяарчршвакдяренръьсюияй ъвяъ ямдираюнвяюжяьмрюиясрчъвпячлйвяпх пюбяа ъзяъ яеднряарчвяа пюяе твнюяэрямь чляарчлясвсяэрп хфъъд явътнюшвъсвяэрььрхюнвьзяьяосрърчсрбяюяъвэюьвнвяжвэюьсляэхюфп нзъюк яэхрьфяэхююьсвпзя бяърмр яч ьпряэрмвхялы ня щ ямш хвяьряамрхвямрямх чфяьвчртряре авяш хъвфясливхсвяюяслш хяэхрьюнюяхвьш пв'"
      ]
     },
     "execution_count": 36,
     "metadata": {},
     "output_type": "execute_result"
    }
   ],
   "source": [
    "# Зашифрованный тестовый текст\n",
    "encoded_test_text"
   ]
  },
  {
   "cell_type": "code",
   "execution_count": 37,
   "metadata": {},
   "outputs": [
    {
     "data": {
      "text/plain": [
       "'лие имаирвнлбе иетян ьочогн кудж са куджа пагкаы сеимаирвнлаы иетяы сеимаирвнла ьо илоетд лие итешавоия л коте озвосипнч геса дхсава мро тдг збв л илыхн и зблшеэ л нч коте щуасюдгеспоэ ждлеусасрпой н озфылнва тдгд мро се тогер гнря и снт л оксот коте ьовогесне цро ьуоковгавоия дге руернй кеся н тдмнревясо мдлирлолавоия н иатнтн идьуджатн н лиетн мвесатн иетян н котомакюатн лие мвесб иетян н котомакюб мдлирлолавн мро сер итбива л нч иогнревяирле н мро са пагкот ьоироывот клоуе ивдмайсо иошекшнеиы вэкн зовее илыхасб тегкд иозой мет осн мвесб иетян н котомакюб озвосипнч геса се лбчокнва нх илонч потсар тдга руернй кеся се збво кота керн зежавн ьо лиетд котд пап ьореуыссбе асжвнмаспа ьоииоунваия и цпосотпой н саьниава хаьнипд ьуныревяснюе ьуоиы ьуннипаря ей солое теиро ьолау дшев еъе лмеуа ио клоуа ло луеты иатожо озека меусаы пдчаупа н пдмеу ьуоинвн уаимера'"
      ]
     },
     "execution_count": 37,
     "metadata": {},
     "output_type": "execute_result"
    }
   ],
   "source": [
    "# Расшифрованный тестовый текст\n",
    "decoded_test_text"
   ]
  },
  {
   "cell_type": "code",
   "execution_count": 38,
   "metadata": {},
   "outputs": [
    {
     "name": "stdout",
     "output_type": "stream",
     "text": [
      "Посимвольная точность частотного метода на тестовом отрывке: 0.4053\n"
     ]
    }
   ],
   "source": [
    "accuracy = char_accuracy(preprocessed_test_text, decoded_test_text)\n",
    "print(f'Посимвольная точность частотного метода на тестовом отрывке: {accuracy:.4f}')"
   ]
  },
  {
   "cell_type": "markdown",
   "metadata": {},
   "source": [
    "## 2 Биграммный частотный метод"
   ]
  },
  {
   "cell_type": "code",
   "execution_count": 39,
   "metadata": {},
   "outputs": [],
   "source": [
    "# Вычисление частот встречаемости н-грамм в тексте\n",
    "def compute_ngram_freqs(text: str, ngram: int = 2) -> dict:\n",
    "    ngram_counter = Counter(text[idx : idx + ngram] for idx in range(len(text) - ngram + 1))\n",
    "    size = sum(ngram_counter.values())\n",
    "    freqs_dict = {}\n",
    "    \n",
    "    for key, val in ngram_counter.items():\n",
    "        freqs_dict[key] = val / size\n",
    "        \n",
    "    return freqs_dict\n",
    "\n",
    "\n",
    "# Декодирование биграммным частотным методом\n",
    "def decode_bigram_text(text: str, decode_dict: dict) -> str:\n",
    "    key_scores = {key: i for i, key in enumerate(decode_dict.keys())}\n",
    "    decoded_text = []\n",
    "    for ind in range(len(text)):\n",
    "        first_bigram, second_bigram = None, None\n",
    "        left_border = ind - 1\n",
    "        if left_border >= 0:\n",
    "            first_bigram = text[left_border: left_border + 2]\n",
    "        right_border = ind + 1\n",
    "        if right_border < len(text):\n",
    "            second_bigram = text[right_border - 1: right_border + 1]\n",
    "        if first_bigram is not None and second_bigram is not None:\n",
    "            if key_scores.get(first_bigram, len(key_scores)) < key_scores.get(second_bigram, len(key_scores)):\n",
    "                decoded_text.append(decode_dict.get(first_bigram, '  ')[1])\n",
    "            else:\n",
    "                decoded_text.append(decode_dict.get(second_bigram, '  ')[0])\n",
    "        elif first_bigram is None:\n",
    "                decoded_text.append(decode_dict.get(second_bigram, '  ')[0])\n",
    "        elif second_bigram is None:\n",
    "                decoded_text.append(decode_dict.get(first_bigram, '  ')[1])\n",
    "\n",
    "    return ''.join(decoded_text)"
   ]
  },
  {
   "cell_type": "code",
   "execution_count": 40,
   "metadata": {},
   "outputs": [],
   "source": [
    "rus_corpora_freqs_bigram = compute_ngram_freqs(preprocessed_rus_corpora, ngram=2)\n",
    "test_freqs_bigram = compute_ngram_freqs(encoded_test_text, ngram=2)\n",
    "decode_dict = get_decode_dict(test_freqs_bigram, rus_corpora_freqs_bigram)\n",
    "decoded_test_text = decode_bigram_text(encoded_test_text, decode_dict)"
   ]
  },
  {
   "cell_type": "code",
   "execution_count": 41,
   "metadata": {},
   "outputs": [
    {
     "data": {
      "text/plain": [
       "'все счастливые семьи похожи друг на друга каждая несчастливая семья несчастлива по своему все смешалось в доме облонских жена узнала что муж был в связи с бывшею в их доме француженкою гувернанткой и объявила мужу что не может жить с ним в одном доме положение это продолжалось уже третий день и мучительно чувствовалось и самими супругами и всеми членами семьи и домочадцами все члены семьи и домочадцы чувствовали что нет смысла в их сожительстве и что на каждом постоялом дворе случайно сошедшиеся люди более связаны между собой чем они члены семьи и домочадцы облонских жена не выходила из своих комнат мужа третий день не было дома дети бегали по всему дому как потерянные англичанка поссорилась с экономкой и написала записку приятельнице прося приискать ей новое место повар ушел еще вчера со двора во время самого обеда черная кухарка и кучер просили расчета'"
      ]
     },
     "execution_count": 41,
     "metadata": {},
     "output_type": "execute_result"
    }
   ],
   "source": [
    "# Предобработанный тестовый текст\n",
    "preprocessed_test_text"
   ]
  },
  {
   "cell_type": "code",
   "execution_count": 42,
   "metadata": {},
   "outputs": [
    {
     "data": {
      "text/plain": [
       "'мь яьшвьпнюмд яь чзюяэрирйюяахлтяъвяахлтвясвйавфяъ ьшвьпнюмвфяь чзфяъ ьшвьпнюмвяэряьмр члямь яьч ывнрьзямяарч яренръьсюияй ъвялжъвнвяшпрячлйяеднямяьмфжюяьяедмы цямяюияарч яухвъклй ъсрцятлм хъвъпсрбяюярегфмюнвячлйляшпряъ ячрй пяйюпзяьяъючямяраърчяарч яэрнрй ъю яопряэхрарнйвнрьзялй япх пюбяа ъзяюячлшюп нзъряшлмьпмрмвнрьзяюяьвчючюяьлэхлтвчюяюямь чюяшн ъвчюяь чзюяюяарчршваквчюямь яшн ъдяь чзюяюяарчршвакдяшлмьпмрмвнюяшпряъ пяьчдьнвямяюияьрйюп нзьпм яюяшпряъвясвйарчяэрьпрфнрчяамрх яьнлшвбъряьры аыю ьфянцаюяерн  яьмфжвъдяч йаляьрербяш чяръюяшн ъдяь чзюяюяарчршвакдяренръьсюияй ъвяъ ямдираюнвяюжяьмрюиясрчъвпячлйвяпх пюбяа ъзяъ яеднряарчвяа пюяе твнюяэрямь чляарчлясвсяэрп хфъъд явътнюшвъсвяэрььрхюнвьзяьяосрърчсрбяюяъвэюьвнвяжвэюьсляэхюфп нзъюк яэхрьфяэхююьсвпзя бяърмр яч ьпряэрмвхялы ня щ ямш хвяьряамрхвямрямх чфяьвчртряре авяш хъвфясливхсвяюяслш хяэхрьюнюяхвьш пв'"
      ]
     },
     "execution_count": 42,
     "metadata": {},
     "output_type": "execute_result"
    }
   ],
   "source": [
    "# Зашифрованный тестовый текст\n",
    "encoded_test_text"
   ]
  },
  {
   "cell_type": "code",
   "execution_count": 43,
   "metadata": {},
   "outputs": [
    {
     "data": {
      "text/plain": [
       "'ониа алнокаытиа атло вомого с гмя е с гме д инеоя наалнокаелоа атлоя наалнокаее в а пости пниа  бжл т к п стои о  тты  мрунье тнь  е ил ннииваол па  йро  ваоыеге п ом стои хврехлунезаедтльн ь еузап о о ыйеаое ниив ил н и аау стжеска я тс пробтто стои во тунети ел нвчо кехл т колуи а осйп снек о ниаввиа т нилонопоел т к о   лоло  б чгм ло о пнато ичнь ло  атло о стоаале  ло пни ичнеоа атло о стоаале о илонопоелко ил н нса уьбое п ома егевиа нояи о ил н е д и то воноаж то спо иа е алнт а еегнмдиловпссо аччтиа  йрреорабинва в юп истрото ичнеоа атло о стоаале оро  тты  мрунье  и птмобаое оуа по м дтоь  рниие а осйп снекя и ао   стое сосо аяслко в нпнати стои д ц вовн юю уи реакаалеме во леиаотька сезаттозап о   чинл е дучиы в вчэшвиа етми вчй о вчэиым икоапя епои абно нвоелритедалаыи пкн еа   спове п нп стоа  тал но зте ин ь овдиюдрме о д кн  вчй ако втькосв'"
      ]
     },
     "execution_count": 43,
     "metadata": {},
     "output_type": "execute_result"
    }
   ],
   "source": [
    "# Расшифрованный тестовый текст\n",
    "decoded_test_text"
   ]
  },
  {
   "cell_type": "code",
   "execution_count": 44,
   "metadata": {},
   "outputs": [
    {
     "name": "stdout",
     "output_type": "stream",
     "text": [
      "Посимвольная точность биграммного частотного метода на тестовом отрывке: 0.1351\n"
     ]
    }
   ],
   "source": [
    "accuracy = char_accuracy(preprocessed_test_text, decoded_test_text)\n",
    "print(f'Посимвольная точность биграммного частотного метода на тестовом отрывке: {accuracy:.4f}')"
   ]
  },
  {
   "cell_type": "markdown",
   "metadata": {},
   "source": [
    "Качество расшифровки ухудшилось, так как встречаемых биграмм больше, чем одинарных символов, и частотное соответствие провести сложнее. "
   ]
  },
  {
   "cell_type": "markdown",
   "metadata": {},
   "source": [
    "## 3 MCMC - sampling"
   ]
  },
  {
   "cell_type": "markdown",
   "metadata": {},
   "source": [
    "Для расшифровки текста в данном пункте будет использоваться метод Метрополиса-Гастингса MCMC-семплирования с использованием статистики биграмм (биграммы текста можно рассматривать, как состояния цепи Маркова со своими вероятностями перехода). В данном методе в качестве правдободобия текста будет рассматриваться произведение вероятностей всех биграмм, входящих в данный текст. За вероятность каждой биграммы принимается частота появления этой биграммы в тренировочном корпусе. <br><br>\n",
    "**Шаги алгоритма:**\n",
    "1. Инициализация перестановки и подсчет значения логарифма правдободобия для текста расшифрованного начальной перестановкой.\n",
    "2. Выполнение случайной перестановки двух элементов из текущей перестановки.\n",
    "3. Подсчет логарифма правдободобия расшифрованного текста для новой перестановки.\n",
    "4. Сравнение текущего и нового правдободобий по критерию из алгоритма Метрополиса-Гастингса:\n",
    "$$\\frac{P_{new}}{P_{current}} \\vee 1$$\n",
    "Если отношение больше 1, то за текущую принимается новая перестановка. Иначе новая перестановка принимается с вероятностью:\n",
    "$$P = \\exp(\\log(P_{new}) - \\log(P_{current}))$$\n",
    "5. Если не превышено количество итераций, то переходим к пункту 2.\n",
    "6. По окончанию всех итераций текущая перестановка считается результатом семплирования. "
   ]
  },
  {
   "cell_type": "code",
   "execution_count": 45,
   "metadata": {},
   "outputs": [],
   "source": [
    "corpora_vocab = list(rus_corpora_freqs.keys())\n",
    "test_vocab = list(test_freqs.keys())"
   ]
  },
  {
   "cell_type": "code",
   "execution_count": 46,
   "metadata": {},
   "outputs": [],
   "source": [
    "# Вычисление логарифма правдоподобия текста (логарифм произведения частот соответствующих н-грамм)\n",
    "def ngram_log_likelyhood(text: str, decode_dict: dict, corpora_freqs: dict, ngram: int = 2) -> float:\n",
    "    decoded_text = apply_map_dict(text, decode_dict)\n",
    "    log_likelyhood = 0\n",
    "    for ind in range(len(decoded_text) - ngram + 1):\n",
    "        chunk = decoded_text[ind: ind + ngram]\n",
    "#         Дефолтное значение правдободобия биграммы, отсуствующей в тренировочном корпусе\n",
    "        likelyhood = corpora_freqs.get(chunk, 1 / (len(text) + len(corpora_freqs) ** ngram)) \n",
    "        log_likelyhood += np.log(likelyhood)\n",
    "        \n",
    "    return log_likelyhood\n",
    "\n",
    "\n",
    "# Принятие или отклонение новой перестановки по критерию в алгоритме Метрополиса-Гастингса\n",
    "def metropolis_hastings_log_accept(log_likelyhood: float, new_log_likelyhood: float) -> bool:\n",
    "    if new_log_likelyhood > log_likelyhood:\n",
    "        return True\n",
    "    else:\n",
    "        return (np.random.rand() < (np.exp(new_log_likelyhood - log_likelyhood)))\n",
    "    \n",
    "\n",
    "# Алгоритм Метрополиса-Гастингса\n",
    "def metropolis_hastings(encoded_text: str, corpora_freqs: dict, corpora_vocab: list, test_vocab: list, \n",
    "                        n_iters: int = 15000, n_attempts: int = 5, ngram: int = 2) -> dict:\n",
    "    best_map_dict = {}\n",
    "    best_likelyhood = -np.inf\n",
    "    \n",
    "#     Реализуются несколько попыток полного цикла MCMC-семплирования для избежания застреваний в локальных максимумах\n",
    "    for k in range(n_attempts):\n",
    "        num_acception = 0\n",
    "        cur_map_dict = {key: val for key, val in zip(test_vocab, corpora_vocab)}\n",
    "        cur_likelyhood = ngram_log_likelyhood(encoded_text, cur_map_dict, corpora_freqs, ngram=ngram)\n",
    "    \n",
    "        for _ in range(n_iters):\n",
    "            vocab_values = list(cur_map_dict.values())\n",
    "            ind1, ind2 = np.random.choice(range(len(vocab_values)), 2, replace=False)\n",
    "            vocab_values[ind1], vocab_values[ind2] = vocab_values[ind2], vocab_values[ind1]\n",
    "            new_map_dict = {key: val for key, val in zip(list(cur_map_dict.keys()), vocab_values)}\n",
    "            new_likelyhood = ngram_log_likelyhood(encoded_text, new_map_dict, corpora_freqs, ngram=ngram)\n",
    "        \n",
    "            if metropolis_hastings_log_accept(cur_likelyhood, new_likelyhood):\n",
    "                cur_map_dict = new_map_dict\n",
    "                cur_likelyhood = new_likelyhood\n",
    "                num_acception += 1\n",
    "            \n",
    "        if cur_likelyhood > best_likelyhood:\n",
    "            best_likelyhood = cur_likelyhood\n",
    "            best_map_dict = cur_map_dict\n",
    "        print(f'Attempt: {k + 1}, Number of acceptions: {num_acception}, final log-likelyhood: {cur_likelyhood}')\n",
    "    return best_map_dict"
   ]
  },
  {
   "cell_type": "code",
   "execution_count": 47,
   "metadata": {},
   "outputs": [
    {
     "name": "stdout",
     "output_type": "stream",
     "text": [
      "Attempt: 1, Number of acceptions: 93, final log-likelyhood: -4790.179751040747\n",
      "Attempt: 2, Number of acceptions: 93, final log-likelyhood: -4790.179751040747\n",
      "Attempt: 3, Number of acceptions: 134, final log-likelyhood: -4990.533374164072\n",
      "Attempt: 4, Number of acceptions: 91, final log-likelyhood: -4790.179751040747\n",
      "Attempt: 5, Number of acceptions: 107, final log-likelyhood: -4790.179751040747\n"
     ]
    }
   ],
   "source": [
    "mcmc_map_dict = metropolis_hastings(encoded_test_text, rus_corpora_freqs_bigram, corpora_vocab, test_vocab)"
   ]
  },
  {
   "cell_type": "code",
   "execution_count": 48,
   "metadata": {},
   "outputs": [],
   "source": [
    "decoded_test_text = apply_map_dict(encoded_test_text, mcmc_map_dict)"
   ]
  },
  {
   "cell_type": "code",
   "execution_count": 49,
   "metadata": {},
   "outputs": [
    {
     "data": {
      "text/plain": [
       "'все счастливые семьи похожи друг на друга каждая несчастливая семья несчастлива по своему все смешалось в доме облонских жена узнала что муж был в связи с бывшею в их доме француженкою гувернанткой и объявила мужу что не может жить с ним в одном доме положение это продолжалось уже третий день и мучительно чувствовалось и самими супругами и всеми членами семьи и домочадцами все члены семьи и домочадцы чувствовали что нет смысла в их сожительстве и что на каждом постоялом дворе случайно сошедшиеся люди более связаны между собой чем они члены семьи и домочадцы облонских жена не выходила из своих комнат мужа третий день не было дома дети бегали по всему дому как потерянные англичанка поссорилась с экономкой и написала записку приятельнице прося приискать ей новое место повар ушел еще вчера со двора во время самого обеда черная кухарка и кучер просили расчета'"
      ]
     },
     "execution_count": 49,
     "metadata": {},
     "output_type": "execute_result"
    }
   ],
   "source": [
    "# Предобработанный тестовый текст\n",
    "preprocessed_test_text"
   ]
  },
  {
   "cell_type": "code",
   "execution_count": 50,
   "metadata": {},
   "outputs": [
    {
     "data": {
      "text/plain": [
       "'мь яьшвьпнюмд яь чзюяэрирйюяахлтяъвяахлтвясвйавфяъ ьшвьпнюмвфяь чзфяъ ьшвьпнюмвяэряьмр члямь яьч ывнрьзямяарч яренръьсюияй ъвялжъвнвяшпрячлйяеднямяьмфжюяьяедмы цямяюияарч яухвъклй ъсрцятлм хъвъпсрбяюярегфмюнвячлйляшпряъ ячрй пяйюпзяьяъючямяраърчяарч яэрнрй ъю яопряэхрарнйвнрьзялй япх пюбяа ъзяюячлшюп нзъряшлмьпмрмвнрьзяюяьвчючюяьлэхлтвчюяюямь чюяшн ъвчюяь чзюяюяарчршваквчюямь яшн ъдяь чзюяюяарчршвакдяшлмьпмрмвнюяшпряъ пяьчдьнвямяюияьрйюп нзьпм яюяшпряъвясвйарчяэрьпрфнрчяамрх яьнлшвбъряьры аыю ьфянцаюяерн  яьмфжвъдяч йаляьрербяш чяръюяшн ъдяь чзюяюяарчршвакдяренръьсюияй ъвяъ ямдираюнвяюжяьмрюиясрчъвпячлйвяпх пюбяа ъзяъ яеднряарчвяа пюяе твнюяэрямь чляарчлясвсяэрп хфъъд явътнюшвъсвяэрььрхюнвьзяьяосрърчсрбяюяъвэюьвнвяжвэюьсляэхюфп нзъюк яэхрьфяэхююьсвпзя бяърмр яч ьпряэрмвхялы ня щ ямш хвяьряамрхвямрямх чфяьвчртряре авяш хъвфясливхсвяюяслш хяэхрьюнюяхвьш пв'"
      ]
     },
     "execution_count": 50,
     "metadata": {},
     "output_type": "execute_result"
    }
   ],
   "source": [
    "# Зашифрованный тестовый текст\n",
    "encoded_test_text"
   ]
  },
  {
   "cell_type": "code",
   "execution_count": 51,
   "metadata": {},
   "outputs": [
    {
     "data": {
      "text/plain": [
       "'все счастливые семьи похожи друг на друга каждая несчастливая семья несчастлива по своему все смешалось в доме облонских жена узнала что муж был в связи с бывшею в их доме француженкою гувернанткой и объявила мужу что не может жить с ним в одном доме положение это продолжалось уже третий день и мучительно чувствовалось и самими супругами и всеми членами семьи и домочадцами все члены семьи и домочадцы чувствовали что нет смысла в их сожительстве и что на каждом постоялом дворе случайно сошедшиеся люди более связаны между собой чем они члены семьи и домочадцы облонских жена не выходила из своих комнат мужа третий день не было дома дети бегали по всему дому как потерянные англичанка поссорилась с экономкой и написала записку приятельнице прося приискать ей новое место повар ушел еще вчера со двора во время самого обеда черная кухарка и кучер просили расчета'"
      ]
     },
     "execution_count": 51,
     "metadata": {},
     "output_type": "execute_result"
    }
   ],
   "source": [
    "# Расшифрованный тестовый текст\n",
    "decoded_test_text"
   ]
  },
  {
   "cell_type": "code",
   "execution_count": 52,
   "metadata": {},
   "outputs": [
    {
     "name": "stdout",
     "output_type": "stream",
     "text": [
      "Посимвольная точность метода MCMC-семплирования на тестовом отрывке: 1.0000\n"
     ]
    }
   ],
   "source": [
    "accuracy = char_accuracy(preprocessed_test_text, decoded_test_text)\n",
    "print(f'Посимвольная точность метода MCMC-семплирования на тестовом отрывке: {accuracy:.4f}')"
   ]
  },
  {
   "cell_type": "markdown",
   "metadata": {},
   "source": [
    "Получилась 100% точность на тестовом отрывке."
   ]
  },
  {
   "cell_type": "markdown",
   "metadata": {},
   "source": [
    "## 4 Расшифруйте сообщение"
   ]
  },
  {
   "cell_type": "code",
   "execution_count": 53,
   "metadata": {},
   "outputs": [
    {
     "data": {
      "text/plain": [
       "'←⇠⇒↟↹↷⇊↹↷↟↤↟↨←↹↝⇛⇯↳⇴⇒⇈↝⇊↾↹↟⇒↟↹⇷⇛⇞↨↟↹↝⇛⇯↳⇴⇒⇈↝⇊↾↹↨←⇌⇠↨↹⇙↹⇸↨⇛↙⇛↹⇠⇛⇛↲⇆←↝↟↞↹⇌⇛↨⇛⇯⇊↾↹⇒←↙⇌⇛↹⇷⇯⇛⇞↟↨⇴↨⇈↹⇠⇌⇛⇯←←↹↷⇠←↙⇛↹↷⇊↹↷⇠←↹⇠↤←⇒⇴⇒↟↹⇷⇯⇴↷↟⇒⇈↝⇛↹↟↹⇷⇛⇒⇙⇞↟↨←↹↳⇴⇌⇠↟↳⇴⇒⇈↝⇊↾↹↲⇴⇒⇒↹⇰⇴↹⇷⇛⇠⇒←↤↝←←↹⇞←↨↷←⇯↨⇛←↹⇰⇴↤⇴↝↟←↹⇌⇙⇯⇠⇴↹↘⇛↨↞↹⇌⇛↝←⇞↝⇛↹↞↹↝↟⇞←↙⇛↹↝←↹⇛↲←⇆⇴⇏'"
      ]
     },
     "execution_count": 53,
     "metadata": {},
     "output_type": "execute_result"
    }
   ],
   "source": [
    "message = \"\"\"←⇠⇒↟↹↷⇊↹↷↟↤↟↨←↹↝⇛⇯↳⇴⇒⇈↝⇊↾↹↟⇒↟↹⇷⇛⇞↨↟↹↝⇛⇯↳⇴⇒⇈↝⇊↾↹↨←⇌⇠↨↹⇙↹⇸↨⇛↙⇛↹⇠⇛⇛↲⇆←↝↟↞↹⇌⇛↨⇛⇯⇊↾↹⇒←↙⇌⇛↹⇷⇯⇛⇞↟↨⇴↨⇈↹⇠⇌⇛⇯←←↹↷⇠←↙⇛↹↷⇊↹↷⇠←↹⇠↤←⇒⇴⇒↟↹⇷⇯⇴↷↟⇒⇈↝⇛↹↟↹⇷⇛⇒⇙⇞↟↨←↹↳⇴⇌⇠↟↳⇴⇒⇈↝⇊↾↹↲⇴⇒⇒↹⇰⇴↹⇷⇛⇠⇒←↤↝←←↹⇞←↨↷←⇯↨⇛←↹⇰⇴↤⇴↝↟←↹⇌⇙⇯⇠⇴↹↘⇛↨↞↹⇌⇛↝←⇞↝⇛↹↞↹↝↟⇞←↙⇛↹↝←↹⇛↲←⇆⇴⇏\"\"\"\n",
    "message"
   ]
  },
  {
   "cell_type": "code",
   "execution_count": 54,
   "metadata": {},
   "outputs": [],
   "source": [
    "message_freqs = compute_freqs(message)\n",
    "message_vocab = list(message_freqs.keys())"
   ]
  },
  {
   "cell_type": "code",
   "execution_count": 65,
   "metadata": {},
   "outputs": [
    {
     "name": "stdout",
     "output_type": "stream",
     "text": [
      "Attempt: 1, Number of acceptions: 66, final log-likelyhood: -1388.897040076368\n",
      "Attempt: 2, Number of acceptions: 133, final log-likelyhood: -1390.661992183435\n",
      "Attempt: 3, Number of acceptions: 151, final log-likelyhood: -1247.2948545281786\n",
      "Attempt: 4, Number of acceptions: 119, final log-likelyhood: -1391.8898346415874\n",
      "Attempt: 5, Number of acceptions: 150, final log-likelyhood: -1399.1844788354729\n",
      "Attempt: 6, Number of acceptions: 94, final log-likelyhood: -1399.809178648099\n",
      "Attempt: 7, Number of acceptions: 112, final log-likelyhood: -1284.5642928552086\n",
      "Attempt: 8, Number of acceptions: 130, final log-likelyhood: -1301.813356814227\n",
      "Attempt: 9, Number of acceptions: 128, final log-likelyhood: -1246.3615534290004\n",
      "Attempt: 10, Number of acceptions: 146, final log-likelyhood: -1247.7301667941192\n",
      "Attempt: 11, Number of acceptions: 121, final log-likelyhood: -1466.7264086059383\n",
      "Attempt: 12, Number of acceptions: 123, final log-likelyhood: -1375.1745093822037\n",
      "Attempt: 13, Number of acceptions: 103, final log-likelyhood: -1394.4158913896947\n",
      "Attempt: 14, Number of acceptions: 154, final log-likelyhood: -1426.1334294743638\n",
      "Attempt: 15, Number of acceptions: 107, final log-likelyhood: -1462.7793242155487\n",
      "Attempt: 16, Number of acceptions: 106, final log-likelyhood: -1451.6493021840638\n",
      "Attempt: 17, Number of acceptions: 106, final log-likelyhood: -1382.5785817938006\n",
      "Attempt: 18, Number of acceptions: 126, final log-likelyhood: -1401.3029241843349\n",
      "Attempt: 19, Number of acceptions: 120, final log-likelyhood: -1389.8312504298717\n",
      "Attempt: 20, Number of acceptions: 137, final log-likelyhood: -1245.6926137964272\n"
     ]
    }
   ],
   "source": [
    "mcmc_map_dict = metropolis_hastings(message, rus_corpora_freqs_bigram, corpora_vocab, \n",
    "                                    message_vocab, n_iters=10000, n_attempts=20)"
   ]
  },
  {
   "cell_type": "code",
   "execution_count": 66,
   "metadata": {},
   "outputs": [],
   "source": [
    "decoded_message = apply_map_dict(message, mcmc_map_dict)"
   ]
  },
  {
   "cell_type": "code",
   "execution_count": 67,
   "metadata": {},
   "outputs": [
    {
     "data": {
      "text/plain": [
       "'если вы вимите нордальный или почти нордальный текст у этого сообщения который легко прочитать скорее всего вы все смелали правильно и получите даксидальный балл за послемнее четвертое замание курса фотя конечно я ничего не обещаж'"
      ]
     },
     "execution_count": 67,
     "metadata": {},
     "output_type": "execute_result"
    }
   ],
   "source": [
    "decoded_message"
   ]
  },
  {
   "cell_type": "code",
   "execution_count": 68,
   "metadata": {},
   "outputs": [],
   "source": [
    "etalon = r\"\"\"если вы видите нормальный или почти нормальный текст у этого сообщения который легко прочитать \n",
    "скорее всего вы все сделали правильно и получите максимальный балл за последнее \n",
    "четвертое задание курса хотя конечно я ничего не обещаю\"\"\"\n",
    "etalon = etalon.replace('\\n', '')"
   ]
  },
  {
   "cell_type": "code",
   "execution_count": 69,
   "metadata": {},
   "outputs": [
    {
     "name": "stdout",
     "output_type": "stream",
     "text": [
      "Посимвольная точность распознавания закодированного сообщения: 0.9565\n"
     ]
    }
   ],
   "source": [
    "print(f'Посимвольная точность распознавания закодированного сообщения: {char_accuracy(decoded_message, etalon):.4f}')"
   ]
  },
  {
   "cell_type": "markdown",
   "metadata": {},
   "source": [
    "Закодированное сообщение получилось расшифровать с достаточной для чтения точностью."
   ]
  },
  {
   "cell_type": "markdown",
   "metadata": {},
   "source": [
    "## 5 Триграммы"
   ]
  },
  {
   "cell_type": "code",
   "execution_count": 77,
   "metadata": {},
   "outputs": [],
   "source": [
    "rus_corpora_freqs_trigram = compute_ngram_freqs(preprocessed_rus_corpora, ngram=3)"
   ]
  },
  {
   "cell_type": "code",
   "execution_count": 78,
   "metadata": {},
   "outputs": [
    {
     "name": "stdout",
     "output_type": "stream",
     "text": [
      "Attempt: 1, Number of acceptions: 113, final log-likelyhood: -6582.719715835094\n",
      "Attempt: 2, Number of acceptions: 80, final log-likelyhood: -11267.628303140265\n",
      "Attempt: 3, Number of acceptions: 81, final log-likelyhood: -6582.719715835094\n",
      "Attempt: 4, Number of acceptions: 83, final log-likelyhood: -6582.719715835094\n",
      "Attempt: 5, Number of acceptions: 87, final log-likelyhood: -6582.719715835094\n"
     ]
    }
   ],
   "source": [
    "mcmc_map_dict = metropolis_hastings(encoded_test_text, rus_corpora_freqs_trigram, corpora_vocab, test_vocab, \n",
    "                                    n_iters=10000, ngram=3, n_attempts=5)"
   ]
  },
  {
   "cell_type": "code",
   "execution_count": 79,
   "metadata": {},
   "outputs": [
    {
     "data": {
      "text/plain": [
       "'все счастливые семьи похожи друг на друга каждая несчастливая семья несчастлива по своему все смешалось в доме облонских жена узнала что муж был в связи с бывшею в их доме француженкою гувернанткой и объявила мужу что не может жить с ним в одном доме положение это продолжалось уже третий день и мучительно чувствовалось и самими супругами и всеми членами семьи и домочадцами все члены семьи и домочадцы чувствовали что нет смысла в их сожительстве и что на каждом постоялом дворе случайно сошедшиеся люди более связаны между собой чем они члены семьи и домочадцы облонских жена не выходила из своих комнат мужа третий день не было дома дети бегали по всему дому как потерянные англичанка поссорилась с экономкой и написала записку приятельнице прося приискать ей новое место повар ушел еще вчера со двора во время самого обеда черная кухарка и кучер просили расчета'"
      ]
     },
     "execution_count": 79,
     "metadata": {},
     "output_type": "execute_result"
    }
   ],
   "source": [
    "decoded_test_text = apply_map_dict(encoded_test_text, mcmc_map_dict)\n",
    "decoded_test_text"
   ]
  },
  {
   "cell_type": "code",
   "execution_count": 80,
   "metadata": {},
   "outputs": [
    {
     "name": "stdout",
     "output_type": "stream",
     "text": [
      "Посимвольная точность распознавания закодированного сообщения: 1.0000\n"
     ]
    }
   ],
   "source": [
    "print(f'Посимвольная точность распознавания закодированного сообщения: {char_accuracy(decoded_test_text, preprocessed_test_text):.4f}')"
   ]
  },
  {
   "cell_type": "code",
   "execution_count": 81,
   "metadata": {},
   "outputs": [
    {
     "name": "stdout",
     "output_type": "stream",
     "text": [
      "Attempt: 1, Number of acceptions: 76, final log-likelyhood: -2343.281291518298\n",
      "Attempt: 2, Number of acceptions: 77, final log-likelyhood: -2616.0096236051395\n",
      "Attempt: 3, Number of acceptions: 45, final log-likelyhood: -2901.030194024916\n",
      "Attempt: 4, Number of acceptions: 91, final log-likelyhood: -1750.831999643107\n",
      "Attempt: 5, Number of acceptions: 72, final log-likelyhood: -2018.9640814809231\n"
     ]
    }
   ],
   "source": [
    "mcmc_map_dict = metropolis_hastings(message, rus_corpora_freqs_trigram, corpora_vocab, message_vocab, \n",
    "                                    n_iters=10000, ngram=3, n_attempts=5)"
   ]
  },
  {
   "cell_type": "code",
   "execution_count": 82,
   "metadata": {},
   "outputs": [
    {
     "data": {
      "text/plain": [
       "'если вы видите нормальный или почти нормальный текст у этого сообжения который легко прочитать скорее всего вы все сделали правильно и получите максимальный балл за последнее четвертое задание курса фотя конечно я ничего не обежащ'"
      ]
     },
     "execution_count": 82,
     "metadata": {},
     "output_type": "execute_result"
    }
   ],
   "source": [
    "decoded_message = apply_map_dict(message, mcmc_map_dict)\n",
    "decoded_message"
   ]
  },
  {
   "cell_type": "code",
   "execution_count": 83,
   "metadata": {},
   "outputs": [
    {
     "name": "stdout",
     "output_type": "stream",
     "text": [
      "Посимвольная точность распознавания закодированного сообщения: 0.9826\n"
     ]
    }
   ],
   "source": [
    "print(f'Посимвольная точность распознавания закодированного сообщения: {char_accuracy(decoded_message, etalon):.4f}')"
   ]
  },
  {
   "cell_type": "markdown",
   "metadata": {},
   "source": [
    "## 4-граммы"
   ]
  },
  {
   "cell_type": "code",
   "execution_count": 84,
   "metadata": {},
   "outputs": [],
   "source": [
    "rus_corpora_freqs_fourgram = compute_ngram_freqs(preprocessed_rus_corpora, ngram=4)"
   ]
  },
  {
   "cell_type": "code",
   "execution_count": 85,
   "metadata": {},
   "outputs": [
    {
     "name": "stdout",
     "output_type": "stream",
     "text": [
      "Attempt: 1, Number of acceptions: 87, final log-likelyhood: -7981.2702997411925\n",
      "Attempt: 2, Number of acceptions: 148, final log-likelyhood: -24563.449302641337\n",
      "Attempt: 3, Number of acceptions: 83, final log-likelyhood: -7981.2702997411925\n",
      "Attempt: 4, Number of acceptions: 75, final log-likelyhood: -7981.2702997411925\n",
      "Attempt: 5, Number of acceptions: 111, final log-likelyhood: -24490.047535202866\n"
     ]
    }
   ],
   "source": [
    "mcmc_map_dict = metropolis_hastings(encoded_test_text, rus_corpora_freqs_fourgram, corpora_vocab, test_vocab, \n",
    "                                    n_iters=10000, ngram=4, n_attempts=5)"
   ]
  },
  {
   "cell_type": "code",
   "execution_count": 86,
   "metadata": {},
   "outputs": [
    {
     "data": {
      "text/plain": [
       "'все счастливые семьи похожи друг на друга каждая несчастливая семья несчастлива по своему все смешалось в доме облонских жена узнала что муж был в связи с бывшею в их доме француженкою гувернанткой и объявила мужу что не может жить с ним в одном доме положение это продолжалось уже третий день и мучительно чувствовалось и самими супругами и всеми членами семьи и домочадцами все члены семьи и домочадцы чувствовали что нет смысла в их сожительстве и что на каждом постоялом дворе случайно сошедшиеся люди более связаны между собой чем они члены семьи и домочадцы облонских жена не выходила из своих комнат мужа третий день не было дома дети бегали по всему дому как потерянные англичанка поссорилась с экономкой и написала записку приятельнице прося приискать ей новое место повар ушел еще вчера со двора во время самого обеда черная кухарка и кучер просили расчета'"
      ]
     },
     "execution_count": 86,
     "metadata": {},
     "output_type": "execute_result"
    }
   ],
   "source": [
    "decoded_test_text = apply_map_dict(encoded_test_text, mcmc_map_dict)\n",
    "decoded_test_text"
   ]
  },
  {
   "cell_type": "code",
   "execution_count": 87,
   "metadata": {},
   "outputs": [
    {
     "name": "stdout",
     "output_type": "stream",
     "text": [
      "Посимвольная точность распознавания закодированного сообщения: 1.0000\n"
     ]
    }
   ],
   "source": [
    "print(f'Посимвольная точность распознавания закодированного сообщения: {char_accuracy(decoded_test_text, preprocessed_test_text):.4f}')"
   ]
  },
  {
   "cell_type": "code",
   "execution_count": 88,
   "metadata": {},
   "outputs": [
    {
     "name": "stdout",
     "output_type": "stream",
     "text": [
      "Attempt: 1, Number of acceptions: 131, final log-likelyhood: -6682.697721049311\n",
      "Attempt: 2, Number of acceptions: 72, final log-likelyhood: -6482.013092300597\n",
      "Attempt: 3, Number of acceptions: 84, final log-likelyhood: -2303.435478003974\n",
      "Attempt: 4, Number of acceptions: 125, final log-likelyhood: -5992.158627986645\n",
      "Attempt: 5, Number of acceptions: 55, final log-likelyhood: -6581.749731364583\n"
     ]
    }
   ],
   "source": [
    "mcmc_map_dict = metropolis_hastings(message, rus_corpora_freqs_fourgram, corpora_vocab, message_vocab, \n",
    "                                    n_iters=10000, ngram=4, n_attempts=5)"
   ]
  },
  {
   "cell_type": "code",
   "execution_count": 89,
   "metadata": {},
   "outputs": [
    {
     "data": {
      "text/plain": [
       "'если вы видите нормальный или почти нормальный текст у этого сообщения который легко прочитать скорее всего вы все сделали правильно и получите максимальный балл за последнее четвертое задание курса фотя конечно я ничего не обещаж'"
      ]
     },
     "execution_count": 89,
     "metadata": {},
     "output_type": "execute_result"
    }
   ],
   "source": [
    "decoded_message = apply_map_dict(message, mcmc_map_dict)\n",
    "decoded_message"
   ]
  },
  {
   "cell_type": "code",
   "execution_count": 90,
   "metadata": {},
   "outputs": [
    {
     "name": "stdout",
     "output_type": "stream",
     "text": [
      "Посимвольная точность распознавания закодированного сообщения: 0.9913\n"
     ]
    }
   ],
   "source": [
    "print(f'Посимвольная точность распознавания закодированного сообщения: {char_accuracy(decoded_message, etalon):.4f}')"
   ]
  },
  {
   "cell_type": "markdown",
   "metadata": {},
   "source": [
    "При расшифровке длинного текста МСМС-алгоритм показал одинаково хорошее качество на биграммах, триграммах и 4-граммах. Для короткого текста качество декодирования повышается с увеличением размера n-грамм. Качество на тестовом предложении для биграмм - `0.9565`, для триграмм - `0.9826`, для 4-грамм - `0.9913`."
   ]
  },
  {
   "cell_type": "markdown",
   "metadata": {},
   "source": [
    "## 6 Применения модели"
   ]
  },
  {
   "cell_type": "markdown",
   "metadata": {},
   "source": [
    "Данная модель может применяться в биологии и генетике, в частности, для анализа последовательностей ДНК, так как при работе с ДНК трудно или практически невозможно идентифицировать или выровнять участки геномов из-за неизвестных распределений или распределений сложной формы в совокупности с огромными объемами данных. Возможно, подобные модели могут найти свое применение в машинном переводе текстов на разных языках."
   ]
  },
  {
   "cell_type": "code",
   "execution_count": null,
   "metadata": {},
   "outputs": [],
   "source": []
  }
 ],
 "metadata": {
  "kernelspec": {
   "display_name": "Python 3",
   "language": "python",
   "name": "python3"
  },
  "language_info": {
   "codemirror_mode": {
    "name": "ipython",
    "version": 3
   },
   "file_extension": ".py",
   "mimetype": "text/x-python",
   "name": "python",
   "nbconvert_exporter": "python",
   "pygments_lexer": "ipython3",
   "version": "3.7.3"
  }
 },
 "nbformat": 4,
 "nbformat_minor": 2
}
